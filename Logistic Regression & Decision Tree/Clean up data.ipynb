{
 "cells": [
  {
   "cell_type": "code",
   "execution_count": 1,
   "id": "d97036e2",
   "metadata": {},
   "outputs": [],
   "source": [
    "# Libraries                                                                                # Version\n",
    "\n",
    "import os\n",
    "\n",
    "import pandas as pd                                                                            # 1.3.4\n",
    "import numpy as np                                                                             # 1.20.3\n",
    "import scipy.stats as stats                                                                    # 0.12.2\n",
    "\n",
    "from sklearn.linear_model import LogisticRegression                                            # 0.24.2\n",
    "from sklearn import metrics\n",
    "from sklearn.tree import DecisionTreeClassifier, plot_tree\n",
    "# from IPython.display import Image \n",
    "from sklearn.metrics import accuracy_score, recall_score, precision_score, f1_score \n",
    "from sklearn.metrics import confusion_matrix, classification_report, roc_auc_score \n",
    "from sklearn.metrics import roc_curve, auc\n",
    "\n",
    "# from sklearn.model_selection import cross_val_predict\n",
    "# from sklearn.compose import ColumnTransformer\n",
    "# from sklearn.pipeline import Pipeline\n",
    "# from sklearn.impute import SimpleImputer\n",
    "from sklearn.preprocessing import StandardScaler #, OneHotEncoder\n",
    "import matplotlib.pyplot as plt "
   ]
  },
  {
   "cell_type": "markdown",
   "id": "9f194e33",
   "metadata": {},
   "source": [
    "# Load & Clean the raw data\n",
    "\n",
    "Weicheng Cao"
   ]
  },
  {
   "cell_type": "code",
   "execution_count": 2,
   "id": "acff487a",
   "metadata": {},
   "outputs": [
    {
     "name": "stdout",
     "output_type": "stream",
     "text": [
      "Size of the dataset (row, col):  (25000, 39)\n"
     ]
    },
    {
     "data": {
      "text/html": [
       "<div>\n",
       "<style scoped>\n",
       "    .dataframe tbody tr th:only-of-type {\n",
       "        vertical-align: middle;\n",
       "    }\n",
       "\n",
       "    .dataframe tbody tr th {\n",
       "        vertical-align: top;\n",
       "    }\n",
       "\n",
       "    .dataframe thead th {\n",
       "        text-align: right;\n",
       "    }\n",
       "</style>\n",
       "<table border=\"1\" class=\"dataframe\">\n",
       "  <thead>\n",
       "    <tr style=\"text-align: right;\">\n",
       "      <th></th>\n",
       "      <th>Unnamed: 0</th>\n",
       "      <th>loan_amnt</th>\n",
       "      <th>term</th>\n",
       "      <th>int_rate</th>\n",
       "      <th>emp_length</th>\n",
       "      <th>home_ownership</th>\n",
       "      <th>annual_inc</th>\n",
       "      <th>verification_status</th>\n",
       "      <th>loan_status</th>\n",
       "      <th>purpose</th>\n",
       "      <th>...</th>\n",
       "      <th>bc_util</th>\n",
       "      <th>chargeoff_within_12_mths</th>\n",
       "      <th>mort_acc</th>\n",
       "      <th>mths_since_recent_bc</th>\n",
       "      <th>mths_since_recent_inq</th>\n",
       "      <th>pub_rec_bankruptcies</th>\n",
       "      <th>tot_hi_cred_lim</th>\n",
       "      <th>total_bal_ex_mort</th>\n",
       "      <th>total_bc_limit</th>\n",
       "      <th>total_il_high_credit_limit</th>\n",
       "    </tr>\n",
       "  </thead>\n",
       "  <tbody>\n",
       "    <tr>\n",
       "      <th>0</th>\n",
       "      <td>0</td>\n",
       "      <td>20000.0</td>\n",
       "      <td>60 months</td>\n",
       "      <td>17.93</td>\n",
       "      <td>1 year</td>\n",
       "      <td>MORTGAGE</td>\n",
       "      <td>44304.0</td>\n",
       "      <td>Verified</td>\n",
       "      <td>Charged Off</td>\n",
       "      <td>debt_consolidation</td>\n",
       "      <td>...</td>\n",
       "      <td>NaN</td>\n",
       "      <td>0.0</td>\n",
       "      <td>NaN</td>\n",
       "      <td>NaN</td>\n",
       "      <td>NaN</td>\n",
       "      <td>0.0</td>\n",
       "      <td>NaN</td>\n",
       "      <td>NaN</td>\n",
       "      <td>NaN</td>\n",
       "      <td>NaN</td>\n",
       "    </tr>\n",
       "    <tr>\n",
       "      <th>1</th>\n",
       "      <td>1</td>\n",
       "      <td>30000.0</td>\n",
       "      <td>36 months</td>\n",
       "      <td>11.99</td>\n",
       "      <td>10+ years</td>\n",
       "      <td>MORTGAGE</td>\n",
       "      <td>136000.0</td>\n",
       "      <td>Verified</td>\n",
       "      <td>Current</td>\n",
       "      <td>debt_consolidation</td>\n",
       "      <td>...</td>\n",
       "      <td>42.6</td>\n",
       "      <td>0.0</td>\n",
       "      <td>3.0</td>\n",
       "      <td>40.0</td>\n",
       "      <td>3.0</td>\n",
       "      <td>1.0</td>\n",
       "      <td>116075.0</td>\n",
       "      <td>69594.0</td>\n",
       "      <td>27500.0</td>\n",
       "      <td>83175.0</td>\n",
       "    </tr>\n",
       "    <tr>\n",
       "      <th>2</th>\n",
       "      <td>2</td>\n",
       "      <td>21500.0</td>\n",
       "      <td>36 months</td>\n",
       "      <td>11.99</td>\n",
       "      <td>1 year</td>\n",
       "      <td>RENT</td>\n",
       "      <td>50000.0</td>\n",
       "      <td>Source Verified</td>\n",
       "      <td>Fully Paid</td>\n",
       "      <td>debt_consolidation</td>\n",
       "      <td>...</td>\n",
       "      <td>66.8</td>\n",
       "      <td>0.0</td>\n",
       "      <td>2.0</td>\n",
       "      <td>23.0</td>\n",
       "      <td>6.0</td>\n",
       "      <td>0.0</td>\n",
       "      <td>116920.0</td>\n",
       "      <td>74939.0</td>\n",
       "      <td>19700.0</td>\n",
       "      <td>78020.0</td>\n",
       "    </tr>\n",
       "    <tr>\n",
       "      <th>3</th>\n",
       "      <td>3</td>\n",
       "      <td>10000.0</td>\n",
       "      <td>36 months</td>\n",
       "      <td>13.67</td>\n",
       "      <td>NaN</td>\n",
       "      <td>RENT</td>\n",
       "      <td>64400.0</td>\n",
       "      <td>Source Verified</td>\n",
       "      <td>Fully Paid</td>\n",
       "      <td>debt_consolidation</td>\n",
       "      <td>...</td>\n",
       "      <td>50.9</td>\n",
       "      <td>0.0</td>\n",
       "      <td>1.0</td>\n",
       "      <td>3.0</td>\n",
       "      <td>NaN</td>\n",
       "      <td>0.0</td>\n",
       "      <td>39547.0</td>\n",
       "      <td>16824.0</td>\n",
       "      <td>11200.0</td>\n",
       "      <td>25547.0</td>\n",
       "    </tr>\n",
       "    <tr>\n",
       "      <th>4</th>\n",
       "      <td>4</td>\n",
       "      <td>5000.0</td>\n",
       "      <td>36 months</td>\n",
       "      <td>8.49</td>\n",
       "      <td>10+ years</td>\n",
       "      <td>MORTGAGE</td>\n",
       "      <td>88000.0</td>\n",
       "      <td>Source Verified</td>\n",
       "      <td>Current</td>\n",
       "      <td>debt_consolidation</td>\n",
       "      <td>...</td>\n",
       "      <td>92.6</td>\n",
       "      <td>0.0</td>\n",
       "      <td>1.0</td>\n",
       "      <td>14.0</td>\n",
       "      <td>8.0</td>\n",
       "      <td>0.0</td>\n",
       "      <td>104310.0</td>\n",
       "      <td>7582.0</td>\n",
       "      <td>3300.0</td>\n",
       "      <td>13015.0</td>\n",
       "    </tr>\n",
       "  </tbody>\n",
       "</table>\n",
       "<p>5 rows × 39 columns</p>\n",
       "</div>"
      ],
      "text/plain": [
       "   Unnamed: 0  loan_amnt        term  int_rate emp_length home_ownership  \\\n",
       "0           0    20000.0   60 months     17.93     1 year       MORTGAGE   \n",
       "1           1    30000.0   36 months     11.99  10+ years       MORTGAGE   \n",
       "2           2    21500.0   36 months     11.99     1 year           RENT   \n",
       "3           3    10000.0   36 months     13.67        NaN           RENT   \n",
       "4           4     5000.0   36 months      8.49  10+ years       MORTGAGE   \n",
       "\n",
       "   annual_inc verification_status  loan_status             purpose  ...  \\\n",
       "0     44304.0            Verified  Charged Off  debt_consolidation  ...   \n",
       "1    136000.0            Verified      Current  debt_consolidation  ...   \n",
       "2     50000.0     Source Verified   Fully Paid  debt_consolidation  ...   \n",
       "3     64400.0     Source Verified   Fully Paid  debt_consolidation  ...   \n",
       "4     88000.0     Source Verified      Current  debt_consolidation  ...   \n",
       "\n",
       "  bc_util chargeoff_within_12_mths  mort_acc  mths_since_recent_bc  \\\n",
       "0     NaN                      0.0       NaN                   NaN   \n",
       "1    42.6                      0.0       3.0                  40.0   \n",
       "2    66.8                      0.0       2.0                  23.0   \n",
       "3    50.9                      0.0       1.0                   3.0   \n",
       "4    92.6                      0.0       1.0                  14.0   \n",
       "\n",
       "  mths_since_recent_inq  pub_rec_bankruptcies  tot_hi_cred_lim  \\\n",
       "0                   NaN                   0.0              NaN   \n",
       "1                   3.0                   1.0         116075.0   \n",
       "2                   6.0                   0.0         116920.0   \n",
       "3                   NaN                   0.0          39547.0   \n",
       "4                   8.0                   0.0         104310.0   \n",
       "\n",
       "   total_bal_ex_mort  total_bc_limit  total_il_high_credit_limit  \n",
       "0                NaN             NaN                         NaN  \n",
       "1            69594.0         27500.0                     83175.0  \n",
       "2            74939.0         19700.0                     78020.0  \n",
       "3            16824.0         11200.0                     25547.0  \n",
       "4             7582.0          3300.0                     13015.0  \n",
       "\n",
       "[5 rows x 39 columns]"
      ]
     },
     "execution_count": 2,
     "metadata": {},
     "output_type": "execute_result"
    }
   ],
   "source": [
    "# Load raw data\n",
    "os.chdir('/Users/caoweicheng/Desktop/UF书籍/AI and Machine Learning/Assignment 2 NW')\n",
    "raw = pd.read_excel('LendingClub_Extended_DataSet-4.xlsx')\n",
    "\n",
    "# check raw data\n",
    "print(\"Size of the dataset (row, col): \", raw.shape)\n",
    "raw.head()"
   ]
  },
  {
   "cell_type": "code",
   "execution_count": 3,
   "id": "7c8d99a2",
   "metadata": {},
   "outputs": [
    {
     "name": "stdout",
     "output_type": "stream",
     "text": [
      "<class 'pandas.core.frame.DataFrame'>\n",
      "RangeIndex: 25000 entries, 0 to 24999\n",
      "Data columns (total 39 columns):\n",
      " #   Column                      Non-Null Count  Dtype         \n",
      "---  ------                      --------------  -----         \n",
      " 0   Unnamed: 0                  25000 non-null  int64         \n",
      " 1   loan_amnt                   24999 non-null  float64       \n",
      " 2   term                        24999 non-null  object        \n",
      " 3   int_rate                    24999 non-null  float64       \n",
      " 4   emp_length                  23498 non-null  object        \n",
      " 5   home_ownership              24999 non-null  object        \n",
      " 6   annual_inc                  24999 non-null  float64       \n",
      " 7   verification_status         24999 non-null  object        \n",
      " 8   loan_status                 24999 non-null  object        \n",
      " 9   purpose                     24999 non-null  object        \n",
      " 10  title                       24633 non-null  object        \n",
      " 11  addr_state                  24999 non-null  object        \n",
      " 12  dti                         24988 non-null  float64       \n",
      " 13  delinq_2yrs                 24998 non-null  float64       \n",
      " 14  earliest_cr_line            24998 non-null  datetime64[ns]\n",
      " 15  fico_range_low              24999 non-null  float64       \n",
      " 16  fico_range_high             24999 non-null  float64       \n",
      " 17  inq_last_6mths              24998 non-null  float64       \n",
      " 18  open_acc                    24998 non-null  float64       \n",
      " 19  revol_bal                   24999 non-null  float64       \n",
      " 20  revol_util                  24983 non-null  float64       \n",
      " 21  total_acc                   24998 non-null  float64       \n",
      " 22  acc_now_delinq              24998 non-null  float64       \n",
      " 23  tot_cur_bal                 23996 non-null  float64       \n",
      " 24  open_acc_6m                 11976 non-null  float64       \n",
      " 25  max_bal_bc                  11976 non-null  float64       \n",
      " 26  all_util                    11975 non-null  float64       \n",
      " 27  total_rev_hi_lim            23996 non-null  float64       \n",
      " 28  acc_open_past_24mths        24257 non-null  float64       \n",
      " 29  bc_util                     23985 non-null  float64       \n",
      " 30  chargeoff_within_12_mths    24997 non-null  float64       \n",
      " 31  mort_acc                    24257 non-null  float64       \n",
      " 32  mths_since_recent_bc        24020 non-null  float64       \n",
      " 33  mths_since_recent_inq       21621 non-null  float64       \n",
      " 34  pub_rec_bankruptcies        24981 non-null  float64       \n",
      " 35  tot_hi_cred_lim             23996 non-null  float64       \n",
      " 36  total_bal_ex_mort           24257 non-null  float64       \n",
      " 37  total_bc_limit              24257 non-null  float64       \n",
      " 38  total_il_high_credit_limit  23996 non-null  float64       \n",
      "dtypes: datetime64[ns](1), float64(29), int64(1), object(8)\n",
      "memory usage: 7.4+ MB\n"
     ]
    }
   ],
   "source": [
    "raw.info() # Overview raw data information"
   ]
  },
  {
   "cell_type": "markdown",
   "id": "be029a9e",
   "metadata": {},
   "source": [
    "## Delete the useless columns and rows"
   ]
  },
  {
   "cell_type": "code",
   "execution_count": 4,
   "id": "c36e1563",
   "metadata": {},
   "outputs": [
    {
     "data": {
      "text/html": [
       "<div>\n",
       "<style scoped>\n",
       "    .dataframe tbody tr th:only-of-type {\n",
       "        vertical-align: middle;\n",
       "    }\n",
       "\n",
       "    .dataframe tbody tr th {\n",
       "        vertical-align: top;\n",
       "    }\n",
       "\n",
       "    .dataframe thead th {\n",
       "        text-align: right;\n",
       "    }\n",
       "</style>\n",
       "<table border=\"1\" class=\"dataframe\">\n",
       "  <thead>\n",
       "    <tr style=\"text-align: right;\">\n",
       "      <th></th>\n",
       "      <th>loan_amnt</th>\n",
       "      <th>term</th>\n",
       "      <th>int_rate</th>\n",
       "      <th>emp_length</th>\n",
       "      <th>home_ownership</th>\n",
       "      <th>annual_inc</th>\n",
       "      <th>verification_status</th>\n",
       "      <th>loan_status</th>\n",
       "      <th>purpose</th>\n",
       "      <th>title</th>\n",
       "      <th>...</th>\n",
       "      <th>bc_util</th>\n",
       "      <th>chargeoff_within_12_mths</th>\n",
       "      <th>mort_acc</th>\n",
       "      <th>mths_since_recent_bc</th>\n",
       "      <th>mths_since_recent_inq</th>\n",
       "      <th>pub_rec_bankruptcies</th>\n",
       "      <th>tot_hi_cred_lim</th>\n",
       "      <th>total_bal_ex_mort</th>\n",
       "      <th>total_bc_limit</th>\n",
       "      <th>total_il_high_credit_limit</th>\n",
       "    </tr>\n",
       "  </thead>\n",
       "  <tbody>\n",
       "    <tr>\n",
       "      <th>0</th>\n",
       "      <td>20000.0</td>\n",
       "      <td>60 months</td>\n",
       "      <td>17.93</td>\n",
       "      <td>1 year</td>\n",
       "      <td>MORTGAGE</td>\n",
       "      <td>44304.0</td>\n",
       "      <td>Verified</td>\n",
       "      <td>Charged Off</td>\n",
       "      <td>debt_consolidation</td>\n",
       "      <td>Todd's Loan</td>\n",
       "      <td>...</td>\n",
       "      <td>NaN</td>\n",
       "      <td>0.0</td>\n",
       "      <td>NaN</td>\n",
       "      <td>NaN</td>\n",
       "      <td>NaN</td>\n",
       "      <td>0.0</td>\n",
       "      <td>NaN</td>\n",
       "      <td>NaN</td>\n",
       "      <td>NaN</td>\n",
       "      <td>NaN</td>\n",
       "    </tr>\n",
       "    <tr>\n",
       "      <th>1</th>\n",
       "      <td>30000.0</td>\n",
       "      <td>36 months</td>\n",
       "      <td>11.99</td>\n",
       "      <td>10+ years</td>\n",
       "      <td>MORTGAGE</td>\n",
       "      <td>136000.0</td>\n",
       "      <td>Verified</td>\n",
       "      <td>Current</td>\n",
       "      <td>debt_consolidation</td>\n",
       "      <td>Debt consolidation</td>\n",
       "      <td>...</td>\n",
       "      <td>42.6</td>\n",
       "      <td>0.0</td>\n",
       "      <td>3.0</td>\n",
       "      <td>40.0</td>\n",
       "      <td>3.0</td>\n",
       "      <td>1.0</td>\n",
       "      <td>116075.0</td>\n",
       "      <td>69594.0</td>\n",
       "      <td>27500.0</td>\n",
       "      <td>83175.0</td>\n",
       "    </tr>\n",
       "    <tr>\n",
       "      <th>2</th>\n",
       "      <td>21500.0</td>\n",
       "      <td>36 months</td>\n",
       "      <td>11.99</td>\n",
       "      <td>1 year</td>\n",
       "      <td>RENT</td>\n",
       "      <td>50000.0</td>\n",
       "      <td>Source Verified</td>\n",
       "      <td>Fully Paid</td>\n",
       "      <td>debt_consolidation</td>\n",
       "      <td>Debt Be Gone</td>\n",
       "      <td>...</td>\n",
       "      <td>66.8</td>\n",
       "      <td>0.0</td>\n",
       "      <td>2.0</td>\n",
       "      <td>23.0</td>\n",
       "      <td>6.0</td>\n",
       "      <td>0.0</td>\n",
       "      <td>116920.0</td>\n",
       "      <td>74939.0</td>\n",
       "      <td>19700.0</td>\n",
       "      <td>78020.0</td>\n",
       "    </tr>\n",
       "    <tr>\n",
       "      <th>3</th>\n",
       "      <td>10000.0</td>\n",
       "      <td>36 months</td>\n",
       "      <td>13.67</td>\n",
       "      <td>NaN</td>\n",
       "      <td>RENT</td>\n",
       "      <td>64400.0</td>\n",
       "      <td>Source Verified</td>\n",
       "      <td>Fully Paid</td>\n",
       "      <td>debt_consolidation</td>\n",
       "      <td>Debt consolidation</td>\n",
       "      <td>...</td>\n",
       "      <td>50.9</td>\n",
       "      <td>0.0</td>\n",
       "      <td>1.0</td>\n",
       "      <td>3.0</td>\n",
       "      <td>NaN</td>\n",
       "      <td>0.0</td>\n",
       "      <td>39547.0</td>\n",
       "      <td>16824.0</td>\n",
       "      <td>11200.0</td>\n",
       "      <td>25547.0</td>\n",
       "    </tr>\n",
       "    <tr>\n",
       "      <th>4</th>\n",
       "      <td>5000.0</td>\n",
       "      <td>36 months</td>\n",
       "      <td>8.49</td>\n",
       "      <td>10+ years</td>\n",
       "      <td>MORTGAGE</td>\n",
       "      <td>88000.0</td>\n",
       "      <td>Source Verified</td>\n",
       "      <td>Current</td>\n",
       "      <td>debt_consolidation</td>\n",
       "      <td>Debt consolidation</td>\n",
       "      <td>...</td>\n",
       "      <td>92.6</td>\n",
       "      <td>0.0</td>\n",
       "      <td>1.0</td>\n",
       "      <td>14.0</td>\n",
       "      <td>8.0</td>\n",
       "      <td>0.0</td>\n",
       "      <td>104310.0</td>\n",
       "      <td>7582.0</td>\n",
       "      <td>3300.0</td>\n",
       "      <td>13015.0</td>\n",
       "    </tr>\n",
       "  </tbody>\n",
       "</table>\n",
       "<p>5 rows × 38 columns</p>\n",
       "</div>"
      ],
      "text/plain": [
       "   loan_amnt        term  int_rate emp_length home_ownership  annual_inc  \\\n",
       "0    20000.0   60 months     17.93     1 year       MORTGAGE     44304.0   \n",
       "1    30000.0   36 months     11.99  10+ years       MORTGAGE    136000.0   \n",
       "2    21500.0   36 months     11.99     1 year           RENT     50000.0   \n",
       "3    10000.0   36 months     13.67        NaN           RENT     64400.0   \n",
       "4     5000.0   36 months      8.49  10+ years       MORTGAGE     88000.0   \n",
       "\n",
       "  verification_status  loan_status             purpose               title  \\\n",
       "0            Verified  Charged Off  debt_consolidation         Todd's Loan   \n",
       "1            Verified      Current  debt_consolidation  Debt consolidation   \n",
       "2     Source Verified   Fully Paid  debt_consolidation        Debt Be Gone   \n",
       "3     Source Verified   Fully Paid  debt_consolidation  Debt consolidation   \n",
       "4     Source Verified      Current  debt_consolidation  Debt consolidation   \n",
       "\n",
       "   ... bc_util  chargeoff_within_12_mths  mort_acc mths_since_recent_bc  \\\n",
       "0  ...     NaN                       0.0       NaN                  NaN   \n",
       "1  ...    42.6                       0.0       3.0                 40.0   \n",
       "2  ...    66.8                       0.0       2.0                 23.0   \n",
       "3  ...    50.9                       0.0       1.0                  3.0   \n",
       "4  ...    92.6                       0.0       1.0                 14.0   \n",
       "\n",
       "   mths_since_recent_inq  pub_rec_bankruptcies  tot_hi_cred_lim  \\\n",
       "0                    NaN                   0.0              NaN   \n",
       "1                    3.0                   1.0         116075.0   \n",
       "2                    6.0                   0.0         116920.0   \n",
       "3                    NaN                   0.0          39547.0   \n",
       "4                    8.0                   0.0         104310.0   \n",
       "\n",
       "   total_bal_ex_mort  total_bc_limit  total_il_high_credit_limit  \n",
       "0                NaN             NaN                         NaN  \n",
       "1            69594.0         27500.0                     83175.0  \n",
       "2            74939.0         19700.0                     78020.0  \n",
       "3            16824.0         11200.0                     25547.0  \n",
       "4             7582.0          3300.0                     13015.0  \n",
       "\n",
       "[5 rows x 38 columns]"
      ]
     },
     "execution_count": 4,
     "metadata": {},
     "output_type": "execute_result"
    }
   ],
   "source": [
    "# delete the labeled \"unnamed\" column\n",
    "\n",
    "raw=raw.iloc[:,1:] # will keep all the columns, starting from column #1\n",
    "\n",
    "raw.head() #show the data after deleted"
   ]
  },
  {
   "cell_type": "code",
   "execution_count": 5,
   "id": "b055a160",
   "metadata": {},
   "outputs": [
    {
     "name": "stdout",
     "output_type": "stream",
     "text": [
      "(9552, 38)\n"
     ]
    }
   ],
   "source": [
    "# delete the NaN rows\n",
    "raw = raw.dropna(axis=0, thresh=38) # delete the NaN rows that exceess 38 NaN data\n",
    "\n",
    "# Size of data following this cleanup\n",
    "print(raw.shape)"
   ]
  },
  {
   "cell_type": "code",
   "execution_count": 6,
   "id": "a1226589",
   "metadata": {},
   "outputs": [
    {
     "name": "stdout",
     "output_type": "stream",
     "text": [
      "<class 'pandas.core.frame.DataFrame'>\n",
      "Int64Index: 9552 entries, 1 to 24999\n",
      "Data columns (total 38 columns):\n",
      " #   Column                      Non-Null Count  Dtype         \n",
      "---  ------                      --------------  -----         \n",
      " 0   loan_amnt                   9552 non-null   float64       \n",
      " 1   term                        9552 non-null   object        \n",
      " 2   int_rate                    9552 non-null   float64       \n",
      " 3   emp_length                  9552 non-null   object        \n",
      " 4   home_ownership              9552 non-null   object        \n",
      " 5   annual_inc                  9552 non-null   float64       \n",
      " 6   verification_status         9552 non-null   object        \n",
      " 7   loan_status                 9552 non-null   object        \n",
      " 8   purpose                     9552 non-null   object        \n",
      " 9   title                       9552 non-null   object        \n",
      " 10  addr_state                  9552 non-null   object        \n",
      " 11  dti                         9552 non-null   float64       \n",
      " 12  delinq_2yrs                 9552 non-null   float64       \n",
      " 13  earliest_cr_line            9552 non-null   datetime64[ns]\n",
      " 14  fico_range_low              9552 non-null   float64       \n",
      " 15  fico_range_high             9552 non-null   float64       \n",
      " 16  inq_last_6mths              9552 non-null   float64       \n",
      " 17  open_acc                    9552 non-null   float64       \n",
      " 18  revol_bal                   9552 non-null   float64       \n",
      " 19  revol_util                  9552 non-null   float64       \n",
      " 20  total_acc                   9552 non-null   float64       \n",
      " 21  acc_now_delinq              9552 non-null   float64       \n",
      " 22  tot_cur_bal                 9552 non-null   float64       \n",
      " 23  open_acc_6m                 9552 non-null   float64       \n",
      " 24  max_bal_bc                  9552 non-null   float64       \n",
      " 25  all_util                    9552 non-null   float64       \n",
      " 26  total_rev_hi_lim            9552 non-null   float64       \n",
      " 27  acc_open_past_24mths        9552 non-null   float64       \n",
      " 28  bc_util                     9552 non-null   float64       \n",
      " 29  chargeoff_within_12_mths    9552 non-null   float64       \n",
      " 30  mort_acc                    9552 non-null   float64       \n",
      " 31  mths_since_recent_bc        9552 non-null   float64       \n",
      " 32  mths_since_recent_inq       9552 non-null   float64       \n",
      " 33  pub_rec_bankruptcies        9552 non-null   float64       \n",
      " 34  tot_hi_cred_lim             9552 non-null   float64       \n",
      " 35  total_bal_ex_mort           9552 non-null   float64       \n",
      " 36  total_bc_limit              9552 non-null   float64       \n",
      " 37  total_il_high_credit_limit  9552 non-null   float64       \n",
      "dtypes: datetime64[ns](1), float64(29), object(8)\n",
      "memory usage: 2.8+ MB\n"
     ]
    }
   ],
   "source": [
    "raw.info()"
   ]
  },
  {
   "cell_type": "code",
   "execution_count": 7,
   "id": "2e0ea6e4",
   "metadata": {},
   "outputs": [],
   "source": [
    "# While we can use all the data in the dataframe for the  DecisionTreeClassifier, some entries will be \n",
    "# more problematic for the (logistic) regression. For example, 'addr_state' can take on any one the 50 states abbreviations.\n",
    "# We will therefore drop 'addr_state' from the data.\n",
    "\n",
    "# Similarly, 'earliest_cr_line', which is formatted as date may be handled with a bit of trickery but to keep the assignment simple,\n",
    "# 'earliest_cr_line' will also be dropped here.\n",
    "\n",
    "raw = raw.drop(['addr_state', 'earliest_cr_line'], axis=1)\n",
    "\n",
    "# Other features may be simplified, even if they are of object type (character strings), as will be shown below"
   ]
  },
  {
   "cell_type": "code",
   "execution_count": 8,
   "id": "a4d70db8",
   "metadata": {},
   "outputs": [
    {
     "data": {
      "text/plain": [
       "array(['Debt consolidation', 'Credit card refinancing', 'Vacation',\n",
       "       'Other', 'Major purchase', 'Home improvement', 'Medical expenses',\n",
       "       'Home buying', 'Business', 'Car financing',\n",
       "       'Moving and relocation', 'Green loan'], dtype=object)"
      ]
     },
     "execution_count": 8,
     "metadata": {},
     "output_type": "execute_result"
    }
   ],
   "source": [
    "# The feature 'title' is a bit complicated to handle here and will also be omitted\n",
    "# But before this is done, here is what it looks like\n",
    "\n",
    "raw['title'].unique()"
   ]
  },
  {
   "cell_type": "code",
   "execution_count": 9,
   "id": "89af90c6",
   "metadata": {},
   "outputs": [],
   "source": [
    "# drop the \"title\" col\n",
    "raw = raw.drop(['title'], axis=1)"
   ]
  },
  {
   "cell_type": "code",
   "execution_count": 10,
   "id": "f3b1705f",
   "metadata": {},
   "outputs": [
    {
     "name": "stdout",
     "output_type": "stream",
     "text": [
      "<class 'pandas.core.frame.DataFrame'>\n",
      "Int64Index: 9552 entries, 1 to 24999\n",
      "Data columns (total 35 columns):\n",
      " #   Column                      Non-Null Count  Dtype  \n",
      "---  ------                      --------------  -----  \n",
      " 0   loan_amnt                   9552 non-null   float64\n",
      " 1   term                        9552 non-null   object \n",
      " 2   int_rate                    9552 non-null   float64\n",
      " 3   emp_length                  9552 non-null   object \n",
      " 4   home_ownership              9552 non-null   object \n",
      " 5   annual_inc                  9552 non-null   float64\n",
      " 6   verification_status         9552 non-null   object \n",
      " 7   loan_status                 9552 non-null   object \n",
      " 8   purpose                     9552 non-null   object \n",
      " 9   dti                         9552 non-null   float64\n",
      " 10  delinq_2yrs                 9552 non-null   float64\n",
      " 11  fico_range_low              9552 non-null   float64\n",
      " 12  fico_range_high             9552 non-null   float64\n",
      " 13  inq_last_6mths              9552 non-null   float64\n",
      " 14  open_acc                    9552 non-null   float64\n",
      " 15  revol_bal                   9552 non-null   float64\n",
      " 16  revol_util                  9552 non-null   float64\n",
      " 17  total_acc                   9552 non-null   float64\n",
      " 18  acc_now_delinq              9552 non-null   float64\n",
      " 19  tot_cur_bal                 9552 non-null   float64\n",
      " 20  open_acc_6m                 9552 non-null   float64\n",
      " 21  max_bal_bc                  9552 non-null   float64\n",
      " 22  all_util                    9552 non-null   float64\n",
      " 23  total_rev_hi_lim            9552 non-null   float64\n",
      " 24  acc_open_past_24mths        9552 non-null   float64\n",
      " 25  bc_util                     9552 non-null   float64\n",
      " 26  chargeoff_within_12_mths    9552 non-null   float64\n",
      " 27  mort_acc                    9552 non-null   float64\n",
      " 28  mths_since_recent_bc        9552 non-null   float64\n",
      " 29  mths_since_recent_inq       9552 non-null   float64\n",
      " 30  pub_rec_bankruptcies        9552 non-null   float64\n",
      " 31  tot_hi_cred_lim             9552 non-null   float64\n",
      " 32  total_bal_ex_mort           9552 non-null   float64\n",
      " 33  total_bc_limit              9552 non-null   float64\n",
      " 34  total_il_high_credit_limit  9552 non-null   float64\n",
      "dtypes: float64(29), object(6)\n",
      "memory usage: 2.6+ MB\n"
     ]
    }
   ],
   "source": [
    "# At this stage, this is what the data look like\n",
    "raw.info()"
   ]
  },
  {
   "cell_type": "code",
   "execution_count": 11,
   "id": "b07a6d20",
   "metadata": {},
   "outputs": [
    {
     "data": {
      "text/plain": [
       "loan_amnt                                 5000.0\n",
       "term                                   36 months\n",
       "int_rate                                    8.49\n",
       "emp_length                             10+ years\n",
       "home_ownership                          MORTGAGE\n",
       "annual_inc                               88000.0\n",
       "verification_status              Source Verified\n",
       "loan_status                              Current\n",
       "purpose                       debt_consolidation\n",
       "dti                                         5.32\n",
       "delinq_2yrs                                  0.0\n",
       "fico_range_low                             660.0\n",
       "fico_range_high                            664.0\n",
       "inq_last_6mths                               0.0\n",
       "open_acc                                     4.0\n",
       "revol_bal                                 3055.0\n",
       "revol_util                                  92.6\n",
       "total_acc                                    5.0\n",
       "acc_now_delinq                               0.0\n",
       "tot_cur_bal                              77053.0\n",
       "open_acc_6m                                  0.0\n",
       "max_bal_bc                                3055.0\n",
       "all_util                                    47.0\n",
       "total_rev_hi_lim                          3300.0\n",
       "acc_open_past_24mths                         1.0\n",
       "bc_util                                     92.6\n",
       "chargeoff_within_12_mths                     0.0\n",
       "mort_acc                                     1.0\n",
       "mths_since_recent_bc                        14.0\n",
       "mths_since_recent_inq                        8.0\n",
       "pub_rec_bankruptcies                         0.0\n",
       "tot_hi_cred_lim                         104310.0\n",
       "total_bal_ex_mort                         7582.0\n",
       "total_bc_limit                            3300.0\n",
       "total_il_high_credit_limit               13015.0\n",
       "Name: 4, dtype: object"
      ]
     },
     "execution_count": 11,
     "metadata": {},
     "output_type": "execute_result"
    }
   ],
   "source": [
    "# As an example, in the first row:\n",
    "raw.iloc[1]"
   ]
  },
  {
   "cell_type": "code",
   "execution_count": 12,
   "id": "1ffe0b38",
   "metadata": {},
   "outputs": [
    {
     "data": {
      "text/plain": [
       "array(['Verified', 'Source Verified', 'Not Verified'], dtype=object)"
      ]
     },
     "execution_count": 12,
     "metadata": {},
     "output_type": "execute_result"
    }
   ],
   "source": [
    "# Let's look at the possible values of 'verification status'\n",
    "raw['verification_status'].unique()"
   ]
  },
  {
   "cell_type": "markdown",
   "id": "61fa2e73",
   "metadata": {},
   "source": [
    "## Numeric status by 0 and 1"
   ]
  },
  {
   "cell_type": "code",
   "execution_count": 13,
   "id": "97c38e43",
   "metadata": {},
   "outputs": [],
   "source": [
    "# As is, 'verification_status' may not be a problem for the DecisionTreeClassifier but is for the regression approach\n",
    "# Let's therefore convert it to a (numeric) categorical variable\n",
    "# Here we will contrast between \"Verified\" and \"Source Verified\", on one hand, with \"Not Verified\", on the other\n",
    "raw['verification_status'] = raw['verification_status'].replace(['Verified','Source Verified'],1)"
   ]
  },
  {
   "cell_type": "code",
   "execution_count": 14,
   "id": "f268479b",
   "metadata": {},
   "outputs": [],
   "source": [
    "# numeric status by only 0 and 1\n",
    "raw['verification_status'] = raw['verification_status'].replace(['Not Verified'],0)"
   ]
  },
  {
   "cell_type": "code",
   "execution_count": 15,
   "id": "2e819f65",
   "metadata": {},
   "outputs": [
    {
     "data": {
      "text/plain": [
       "1        1\n",
       "4        1\n",
       "5        1\n",
       "6        0\n",
       "8        1\n",
       "        ..\n",
       "24990    1\n",
       "24991    1\n",
       "24992    1\n",
       "24993    1\n",
       "24999    1\n",
       "Name: verification_status, Length: 9552, dtype: int64"
      ]
     },
     "execution_count": 15,
     "metadata": {},
     "output_type": "execute_result"
    }
   ],
   "source": [
    "# check the numeric status\n",
    "raw['verification_status']"
   ]
  },
  {
   "cell_type": "code",
   "execution_count": 16,
   "id": "8f0e136b",
   "metadata": {},
   "outputs": [
    {
     "name": "stdout",
     "output_type": "stream",
     "text": [
      "<class 'pandas.core.frame.DataFrame'>\n",
      "Int64Index: 9552 entries, 1 to 24999\n",
      "Data columns (total 35 columns):\n",
      " #   Column                      Non-Null Count  Dtype  \n",
      "---  ------                      --------------  -----  \n",
      " 0   loan_amnt                   9552 non-null   float64\n",
      " 1   term                        9552 non-null   object \n",
      " 2   int_rate                    9552 non-null   float64\n",
      " 3   emp_length                  9552 non-null   object \n",
      " 4   home_ownership              9552 non-null   object \n",
      " 5   annual_inc                  9552 non-null   float64\n",
      " 6   verification_status         9552 non-null   int64  \n",
      " 7   loan_status                 9552 non-null   object \n",
      " 8   purpose                     9552 non-null   object \n",
      " 9   dti                         9552 non-null   float64\n",
      " 10  delinq_2yrs                 9552 non-null   float64\n",
      " 11  fico_range_low              9552 non-null   float64\n",
      " 12  fico_range_high             9552 non-null   float64\n",
      " 13  inq_last_6mths              9552 non-null   float64\n",
      " 14  open_acc                    9552 non-null   float64\n",
      " 15  revol_bal                   9552 non-null   float64\n",
      " 16  revol_util                  9552 non-null   float64\n",
      " 17  total_acc                   9552 non-null   float64\n",
      " 18  acc_now_delinq              9552 non-null   float64\n",
      " 19  tot_cur_bal                 9552 non-null   float64\n",
      " 20  open_acc_6m                 9552 non-null   float64\n",
      " 21  max_bal_bc                  9552 non-null   float64\n",
      " 22  all_util                    9552 non-null   float64\n",
      " 23  total_rev_hi_lim            9552 non-null   float64\n",
      " 24  acc_open_past_24mths        9552 non-null   float64\n",
      " 25  bc_util                     9552 non-null   float64\n",
      " 26  chargeoff_within_12_mths    9552 non-null   float64\n",
      " 27  mort_acc                    9552 non-null   float64\n",
      " 28  mths_since_recent_bc        9552 non-null   float64\n",
      " 29  mths_since_recent_inq       9552 non-null   float64\n",
      " 30  pub_rec_bankruptcies        9552 non-null   float64\n",
      " 31  tot_hi_cred_lim             9552 non-null   float64\n",
      " 32  total_bal_ex_mort           9552 non-null   float64\n",
      " 33  total_bc_limit              9552 non-null   float64\n",
      " 34  total_il_high_credit_limit  9552 non-null   float64\n",
      "dtypes: float64(29), int64(1), object(5)\n",
      "memory usage: 2.6+ MB\n"
     ]
    }
   ],
   "source": [
    "# At this stage, this is what the data consists of\n",
    "raw.info()"
   ]
  },
  {
   "cell_type": "code",
   "execution_count": 17,
   "id": "9a8b3f82",
   "metadata": {},
   "outputs": [
    {
     "data": {
      "text/plain": [
       "array(['debt_consolidation', 'credit_card', 'vacation', 'other',\n",
       "       'major_purchase', 'home_improvement', 'medical', 'house',\n",
       "       'small_business', 'car', 'moving', 'renewable_energy'],\n",
       "      dtype=object)"
      ]
     },
     "execution_count": 17,
     "metadata": {},
     "output_type": "execute_result"
    }
   ],
   "source": [
    "# Let's check the values associated with 'purpose'\n",
    "raw['purpose'].unique()"
   ]
  },
  {
   "cell_type": "code",
   "execution_count": 18,
   "id": "d6734806",
   "metadata": {},
   "outputs": [
    {
     "data": {
      "text/plain": [
       "1        debt_consolidation\n",
       "4        debt_consolidation\n",
       "5        debt_consolidation\n",
       "6        debt_consolidation\n",
       "8               credit_card\n",
       "                ...        \n",
       "24990    debt_consolidation\n",
       "24991              vacation\n",
       "24992        small_business\n",
       "24993    debt_consolidation\n",
       "24999        small_business\n",
       "Name: purpose, Length: 9552, dtype: object"
      ]
     },
     "execution_count": 18,
     "metadata": {},
     "output_type": "execute_result"
    }
   ],
   "source": [
    "raw['purpose']"
   ]
  },
  {
   "cell_type": "code",
   "execution_count": 19,
   "id": "18a3ef72",
   "metadata": {},
   "outputs": [],
   "source": [
    "# Again, with the regression in mind, let's make a model that will contrast between loan consolidation and\n",
    "# other purposes for the loan\n",
    "raw.loc[raw['purpose']=='debt_consolidation', 'purpose']=1\n",
    "raw.loc[(raw['purpose']!=1) &(raw['purpose']!='debt_consolidation'), 'purpose']=0"
   ]
  },
  {
   "cell_type": "code",
   "execution_count": 20,
   "id": "fa8bbd7c",
   "metadata": {},
   "outputs": [
    {
     "data": {
      "text/plain": [
       "1        1\n",
       "4        1\n",
       "5        1\n",
       "6        1\n",
       "8        0\n",
       "        ..\n",
       "24990    1\n",
       "24991    0\n",
       "24992    0\n",
       "24993    1\n",
       "24999    0\n",
       "Name: purpose, Length: 9552, dtype: object"
      ]
     },
     "execution_count": 20,
     "metadata": {},
     "output_type": "execute_result"
    }
   ],
   "source": [
    "raw['purpose']"
   ]
  },
  {
   "cell_type": "code",
   "execution_count": 21,
   "id": "7ad6e4e2",
   "metadata": {},
   "outputs": [
    {
     "data": {
      "text/plain": [
       "array([' 36 months', ' 60 months'], dtype=object)"
      ]
     },
     "execution_count": 21,
     "metadata": {},
     "output_type": "execute_result"
    }
   ],
   "source": [
    "# 'term' is non-numeric object. Let's see how many unique terms there are in the data\n",
    "raw['term'].unique()"
   ]
  },
  {
   "cell_type": "code",
   "execution_count": 22,
   "id": "3c149a41",
   "metadata": {},
   "outputs": [
    {
     "data": {
      "text/html": [
       "<div>\n",
       "<style scoped>\n",
       "    .dataframe tbody tr th:only-of-type {\n",
       "        vertical-align: middle;\n",
       "    }\n",
       "\n",
       "    .dataframe tbody tr th {\n",
       "        vertical-align: top;\n",
       "    }\n",
       "\n",
       "    .dataframe thead th {\n",
       "        text-align: right;\n",
       "    }\n",
       "</style>\n",
       "<table border=\"1\" class=\"dataframe\">\n",
       "  <thead>\n",
       "    <tr style=\"text-align: right;\">\n",
       "      <th></th>\n",
       "      <th>loan_amnt</th>\n",
       "      <th>int_rate</th>\n",
       "      <th>emp_length</th>\n",
       "      <th>home_ownership</th>\n",
       "      <th>annual_inc</th>\n",
       "      <th>verification_status</th>\n",
       "      <th>loan_status</th>\n",
       "      <th>purpose</th>\n",
       "      <th>dti</th>\n",
       "      <th>delinq_2yrs</th>\n",
       "      <th>...</th>\n",
       "      <th>chargeoff_within_12_mths</th>\n",
       "      <th>mort_acc</th>\n",
       "      <th>mths_since_recent_bc</th>\n",
       "      <th>mths_since_recent_inq</th>\n",
       "      <th>pub_rec_bankruptcies</th>\n",
       "      <th>tot_hi_cred_lim</th>\n",
       "      <th>total_bal_ex_mort</th>\n",
       "      <th>total_bc_limit</th>\n",
       "      <th>total_il_high_credit_limit</th>\n",
       "      <th>term_ 60 months</th>\n",
       "    </tr>\n",
       "  </thead>\n",
       "  <tbody>\n",
       "    <tr>\n",
       "      <th>1</th>\n",
       "      <td>30000.0</td>\n",
       "      <td>11.99</td>\n",
       "      <td>10+ years</td>\n",
       "      <td>MORTGAGE</td>\n",
       "      <td>136000.0</td>\n",
       "      <td>1</td>\n",
       "      <td>Current</td>\n",
       "      <td>1</td>\n",
       "      <td>20.63</td>\n",
       "      <td>3.0</td>\n",
       "      <td>...</td>\n",
       "      <td>0.0</td>\n",
       "      <td>3.0</td>\n",
       "      <td>40.0</td>\n",
       "      <td>3.0</td>\n",
       "      <td>1.0</td>\n",
       "      <td>116075.0</td>\n",
       "      <td>69594.0</td>\n",
       "      <td>27500.0</td>\n",
       "      <td>83175.0</td>\n",
       "      <td>0</td>\n",
       "    </tr>\n",
       "    <tr>\n",
       "      <th>4</th>\n",
       "      <td>5000.0</td>\n",
       "      <td>8.49</td>\n",
       "      <td>10+ years</td>\n",
       "      <td>MORTGAGE</td>\n",
       "      <td>88000.0</td>\n",
       "      <td>1</td>\n",
       "      <td>Current</td>\n",
       "      <td>1</td>\n",
       "      <td>5.32</td>\n",
       "      <td>0.0</td>\n",
       "      <td>...</td>\n",
       "      <td>0.0</td>\n",
       "      <td>1.0</td>\n",
       "      <td>14.0</td>\n",
       "      <td>8.0</td>\n",
       "      <td>0.0</td>\n",
       "      <td>104310.0</td>\n",
       "      <td>7582.0</td>\n",
       "      <td>3300.0</td>\n",
       "      <td>13015.0</td>\n",
       "      <td>0</td>\n",
       "    </tr>\n",
       "    <tr>\n",
       "      <th>5</th>\n",
       "      <td>16150.0</td>\n",
       "      <td>30.74</td>\n",
       "      <td>10+ years</td>\n",
       "      <td>RENT</td>\n",
       "      <td>38500.0</td>\n",
       "      <td>1</td>\n",
       "      <td>Charged Off</td>\n",
       "      <td>1</td>\n",
       "      <td>33.73</td>\n",
       "      <td>0.0</td>\n",
       "      <td>...</td>\n",
       "      <td>0.0</td>\n",
       "      <td>0.0</td>\n",
       "      <td>9.0</td>\n",
       "      <td>1.0</td>\n",
       "      <td>0.0</td>\n",
       "      <td>64635.0</td>\n",
       "      <td>46857.0</td>\n",
       "      <td>11400.0</td>\n",
       "      <td>41935.0</td>\n",
       "      <td>1</td>\n",
       "    </tr>\n",
       "    <tr>\n",
       "      <th>6</th>\n",
       "      <td>18400.0</td>\n",
       "      <td>14.08</td>\n",
       "      <td>8 years</td>\n",
       "      <td>RENT</td>\n",
       "      <td>40000.0</td>\n",
       "      <td>0</td>\n",
       "      <td>Current</td>\n",
       "      <td>1</td>\n",
       "      <td>19.11</td>\n",
       "      <td>0.0</td>\n",
       "      <td>...</td>\n",
       "      <td>0.0</td>\n",
       "      <td>0.0</td>\n",
       "      <td>5.0</td>\n",
       "      <td>9.0</td>\n",
       "      <td>0.0</td>\n",
       "      <td>49719.0</td>\n",
       "      <td>21706.0</td>\n",
       "      <td>42400.0</td>\n",
       "      <td>0.0</td>\n",
       "      <td>0</td>\n",
       "    </tr>\n",
       "    <tr>\n",
       "      <th>8</th>\n",
       "      <td>35000.0</td>\n",
       "      <td>12.79</td>\n",
       "      <td>9 years</td>\n",
       "      <td>MORTGAGE</td>\n",
       "      <td>118000.0</td>\n",
       "      <td>1</td>\n",
       "      <td>Fully Paid</td>\n",
       "      <td>0</td>\n",
       "      <td>26.66</td>\n",
       "      <td>0.0</td>\n",
       "      <td>...</td>\n",
       "      <td>0.0</td>\n",
       "      <td>6.0</td>\n",
       "      <td>9.0</td>\n",
       "      <td>4.0</td>\n",
       "      <td>0.0</td>\n",
       "      <td>625456.0</td>\n",
       "      <td>116751.0</td>\n",
       "      <td>97800.0</td>\n",
       "      <td>22200.0</td>\n",
       "      <td>0</td>\n",
       "    </tr>\n",
       "  </tbody>\n",
       "</table>\n",
       "<p>5 rows × 35 columns</p>\n",
       "</div>"
      ],
      "text/plain": [
       "   loan_amnt  int_rate emp_length home_ownership  annual_inc  \\\n",
       "1    30000.0     11.99  10+ years       MORTGAGE    136000.0   \n",
       "4     5000.0      8.49  10+ years       MORTGAGE     88000.0   \n",
       "5    16150.0     30.74  10+ years           RENT     38500.0   \n",
       "6    18400.0     14.08    8 years           RENT     40000.0   \n",
       "8    35000.0     12.79    9 years       MORTGAGE    118000.0   \n",
       "\n",
       "   verification_status  loan_status purpose    dti  delinq_2yrs  ...  \\\n",
       "1                    1      Current       1  20.63          3.0  ...   \n",
       "4                    1      Current       1   5.32          0.0  ...   \n",
       "5                    1  Charged Off       1  33.73          0.0  ...   \n",
       "6                    0      Current       1  19.11          0.0  ...   \n",
       "8                    1   Fully Paid       0  26.66          0.0  ...   \n",
       "\n",
       "   chargeoff_within_12_mths  mort_acc  mths_since_recent_bc  \\\n",
       "1                       0.0       3.0                  40.0   \n",
       "4                       0.0       1.0                  14.0   \n",
       "5                       0.0       0.0                   9.0   \n",
       "6                       0.0       0.0                   5.0   \n",
       "8                       0.0       6.0                   9.0   \n",
       "\n",
       "   mths_since_recent_inq  pub_rec_bankruptcies  tot_hi_cred_lim  \\\n",
       "1                    3.0                   1.0         116075.0   \n",
       "4                    8.0                   0.0         104310.0   \n",
       "5                    1.0                   0.0          64635.0   \n",
       "6                    9.0                   0.0          49719.0   \n",
       "8                    4.0                   0.0         625456.0   \n",
       "\n",
       "   total_bal_ex_mort  total_bc_limit  total_il_high_credit_limit  \\\n",
       "1            69594.0         27500.0                     83175.0   \n",
       "4             7582.0          3300.0                     13015.0   \n",
       "5            46857.0         11400.0                     41935.0   \n",
       "6            21706.0         42400.0                         0.0   \n",
       "8           116751.0         97800.0                     22200.0   \n",
       "\n",
       "   term_ 60 months  \n",
       "1                0  \n",
       "4                0  \n",
       "5                1  \n",
       "6                0  \n",
       "8                0  \n",
       "\n",
       "[5 rows x 35 columns]"
      ]
     },
     "execution_count": 22,
     "metadata": {},
     "output_type": "execute_result"
    }
   ],
   "source": [
    "# Since there are only two term options (36 months and 60 months), we can use them as is for the DecisionTreeClassifier approach but we \n",
    "# we will need to make them categorical (a.k.a. dummy) variables for (logistic) regression\n",
    "\n",
    "raw = pd.get_dummies(raw, columns=['term'],  drop_first=True) # dummies variables\n",
    "\n",
    "raw.head()"
   ]
  },
  {
   "cell_type": "code",
   "execution_count": 23,
   "id": "0e170dd6",
   "metadata": {},
   "outputs": [
    {
     "name": "stdout",
     "output_type": "stream",
     "text": [
      "<class 'pandas.core.frame.DataFrame'>\n",
      "Int64Index: 9552 entries, 1 to 24999\n",
      "Data columns (total 35 columns):\n",
      " #   Column                      Non-Null Count  Dtype  \n",
      "---  ------                      --------------  -----  \n",
      " 0   loan_amnt                   9552 non-null   float64\n",
      " 1   int_rate                    9552 non-null   float64\n",
      " 2   emp_length                  9552 non-null   object \n",
      " 3   home_ownership              9552 non-null   object \n",
      " 4   annual_inc                  9552 non-null   float64\n",
      " 5   verification_status         9552 non-null   int64  \n",
      " 6   loan_status                 9552 non-null   object \n",
      " 7   purpose                     9552 non-null   object \n",
      " 8   dti                         9552 non-null   float64\n",
      " 9   delinq_2yrs                 9552 non-null   float64\n",
      " 10  fico_range_low              9552 non-null   float64\n",
      " 11  fico_range_high             9552 non-null   float64\n",
      " 12  inq_last_6mths              9552 non-null   float64\n",
      " 13  open_acc                    9552 non-null   float64\n",
      " 14  revol_bal                   9552 non-null   float64\n",
      " 15  revol_util                  9552 non-null   float64\n",
      " 16  total_acc                   9552 non-null   float64\n",
      " 17  acc_now_delinq              9552 non-null   float64\n",
      " 18  tot_cur_bal                 9552 non-null   float64\n",
      " 19  open_acc_6m                 9552 non-null   float64\n",
      " 20  max_bal_bc                  9552 non-null   float64\n",
      " 21  all_util                    9552 non-null   float64\n",
      " 22  total_rev_hi_lim            9552 non-null   float64\n",
      " 23  acc_open_past_24mths        9552 non-null   float64\n",
      " 24  bc_util                     9552 non-null   float64\n",
      " 25  chargeoff_within_12_mths    9552 non-null   float64\n",
      " 26  mort_acc                    9552 non-null   float64\n",
      " 27  mths_since_recent_bc        9552 non-null   float64\n",
      " 28  mths_since_recent_inq       9552 non-null   float64\n",
      " 29  pub_rec_bankruptcies        9552 non-null   float64\n",
      " 30  tot_hi_cred_lim             9552 non-null   float64\n",
      " 31  total_bal_ex_mort           9552 non-null   float64\n",
      " 32  total_bc_limit              9552 non-null   float64\n",
      " 33  total_il_high_credit_limit  9552 non-null   float64\n",
      " 34  term_ 60 months             9552 non-null   uint8  \n",
      "dtypes: float64(29), int64(1), object(4), uint8(1)\n",
      "memory usage: 2.6+ MB\n"
     ]
    }
   ],
   "source": [
    "raw.info()"
   ]
  },
  {
   "cell_type": "code",
   "execution_count": 24,
   "id": "589495c3",
   "metadata": {},
   "outputs": [
    {
     "data": {
      "text/plain": [
       "loan_amnt                        5000.0\n",
       "int_rate                           8.49\n",
       "emp_length                    10+ years\n",
       "home_ownership                 MORTGAGE\n",
       "annual_inc                      88000.0\n",
       "verification_status                   1\n",
       "loan_status                     Current\n",
       "purpose                               1\n",
       "dti                                5.32\n",
       "delinq_2yrs                         0.0\n",
       "fico_range_low                    660.0\n",
       "fico_range_high                   664.0\n",
       "inq_last_6mths                      0.0\n",
       "open_acc                            4.0\n",
       "revol_bal                        3055.0\n",
       "revol_util                         92.6\n",
       "total_acc                           5.0\n",
       "acc_now_delinq                      0.0\n",
       "tot_cur_bal                     77053.0\n",
       "open_acc_6m                         0.0\n",
       "max_bal_bc                       3055.0\n",
       "all_util                           47.0\n",
       "total_rev_hi_lim                 3300.0\n",
       "acc_open_past_24mths                1.0\n",
       "bc_util                            92.6\n",
       "chargeoff_within_12_mths            0.0\n",
       "mort_acc                            1.0\n",
       "mths_since_recent_bc               14.0\n",
       "mths_since_recent_inq               8.0\n",
       "pub_rec_bankruptcies                0.0\n",
       "tot_hi_cred_lim                104310.0\n",
       "total_bal_ex_mort                7582.0\n",
       "total_bc_limit                   3300.0\n",
       "total_il_high_credit_limit      13015.0\n",
       "term_ 60 months                       0\n",
       "Name: 4, dtype: object"
      ]
     },
     "execution_count": 24,
     "metadata": {},
     "output_type": "execute_result"
    }
   ],
   "source": [
    "raw.iloc[1]"
   ]
  },
  {
   "cell_type": "code",
   "execution_count": 25,
   "id": "49ba7143",
   "metadata": {},
   "outputs": [
    {
     "data": {
      "text/plain": [
       "array(['Current', 'Charged Off', 'Fully Paid', 'Late (31-120 days)',\n",
       "       'Late (16-30 days)', 'In Grace Period'], dtype=object)"
      ]
     },
     "execution_count": 25,
     "metadata": {},
     "output_type": "execute_result"
    }
   ],
   "source": [
    "# As is, 'loan_status' has more than one value. This will not be a problem for the DecisionTreeClassifier \n",
    "# but will be for regression. Let's look at the values:\n",
    "raw['loan_status'].unique()"
   ]
  },
  {
   "cell_type": "code",
   "execution_count": 26,
   "id": "60746000",
   "metadata": {},
   "outputs": [],
   "source": [
    "# As we did with 'purpose', we can also categorize 'loan_status' in to a numeric form, contrasting, say, 'Current' and 'Fully Paid'\n",
    "# vs. all the others\n",
    "# Again, with the regression in mind, let's make a model that will contrast between loan consolidation and\n",
    "# other puposes for the loan\n",
    "\n",
    "raw.loc[(raw['loan_status']=='Current') | (raw['loan_status']=='Fully Paid'), 'loan_status']=1\n",
    "raw.loc[(raw['loan_status']!=1) & (raw['loan_status']!='Current') &  (raw['loan_status']!='Fully Paid'), 'loan_status']=0"
   ]
  },
  {
   "cell_type": "code",
   "execution_count": 27,
   "id": "fcc1cd87",
   "metadata": {},
   "outputs": [
    {
     "data": {
      "text/plain": [
       "loan_amnt                       30000.0\n",
       "int_rate                          11.99\n",
       "emp_length                    10+ years\n",
       "home_ownership                 MORTGAGE\n",
       "annual_inc                     136000.0\n",
       "verification_status                   1\n",
       "loan_status                           1\n",
       "purpose                               1\n",
       "dti                               20.63\n",
       "delinq_2yrs                         3.0\n",
       "fico_range_low                    670.0\n",
       "fico_range_high                   674.0\n",
       "inq_last_6mths                      1.0\n",
       "open_acc                           12.0\n",
       "revol_bal                       13383.0\n",
       "revol_util                         40.7\n",
       "total_acc                          34.0\n",
       "acc_now_delinq                      0.0\n",
       "tot_cur_bal                     69594.0\n",
       "open_acc_6m                         1.0\n",
       "max_bal_bc                      10598.0\n",
       "all_util                           60.0\n",
       "total_rev_hi_lim                32900.0\n",
       "acc_open_past_24mths                6.0\n",
       "bc_util                            42.6\n",
       "chargeoff_within_12_mths            0.0\n",
       "mort_acc                            3.0\n",
       "mths_since_recent_bc               40.0\n",
       "mths_since_recent_inq               3.0\n",
       "pub_rec_bankruptcies                1.0\n",
       "tot_hi_cred_lim                116075.0\n",
       "total_bal_ex_mort               69594.0\n",
       "total_bc_limit                  27500.0\n",
       "total_il_high_credit_limit      83175.0\n",
       "term_ 60 months                       0\n",
       "Name: 1, dtype: object"
      ]
     },
     "execution_count": 27,
     "metadata": {},
     "output_type": "execute_result"
    }
   ],
   "source": [
    "# As an example, let's check the first row \n",
    "raw.iloc[0]"
   ]
  },
  {
   "cell_type": "code",
   "execution_count": 28,
   "id": "76471b5b",
   "metadata": {},
   "outputs": [
    {
     "data": {
      "text/plain": [
       "array(['MORTGAGE', 'RENT', 'OWN', 'ANY'], dtype=object)"
      ]
     },
     "execution_count": 28,
     "metadata": {},
     "output_type": "execute_result"
    }
   ],
   "source": [
    "# Let's now look at the values of 'home_ownership'\n",
    "raw['home_ownership'].unique()"
   ]
  },
  {
   "cell_type": "code",
   "execution_count": 29,
   "id": "a7a5a4ce",
   "metadata": {},
   "outputs": [],
   "source": [
    "# Here we, again, for the regression, we want to convert 'home_owership' to a numeric format\n",
    "# We could choose a binary form, contrasting whether it does not matter (i.e., 'ANY') vs all the others, or\n",
    "# we could distinguish between all answers, using the function 'get_dummies'\n",
    "raw = pd.get_dummies(raw, columns=['home_ownership'],  drop_first=True)"
   ]
  },
  {
   "cell_type": "code",
   "execution_count": 30,
   "id": "83f3aa9d",
   "metadata": {},
   "outputs": [
    {
     "data": {
      "text/plain": [
       "loan_amnt                       30000.0\n",
       "int_rate                          11.99\n",
       "emp_length                    10+ years\n",
       "annual_inc                     136000.0\n",
       "verification_status                   1\n",
       "loan_status                           1\n",
       "purpose                               1\n",
       "dti                               20.63\n",
       "delinq_2yrs                         3.0\n",
       "fico_range_low                    670.0\n",
       "fico_range_high                   674.0\n",
       "inq_last_6mths                      1.0\n",
       "open_acc                           12.0\n",
       "revol_bal                       13383.0\n",
       "revol_util                         40.7\n",
       "total_acc                          34.0\n",
       "acc_now_delinq                      0.0\n",
       "tot_cur_bal                     69594.0\n",
       "open_acc_6m                         1.0\n",
       "max_bal_bc                      10598.0\n",
       "all_util                           60.0\n",
       "total_rev_hi_lim                32900.0\n",
       "acc_open_past_24mths                6.0\n",
       "bc_util                            42.6\n",
       "chargeoff_within_12_mths            0.0\n",
       "mort_acc                            3.0\n",
       "mths_since_recent_bc               40.0\n",
       "mths_since_recent_inq               3.0\n",
       "pub_rec_bankruptcies                1.0\n",
       "tot_hi_cred_lim                116075.0\n",
       "total_bal_ex_mort               69594.0\n",
       "total_bc_limit                  27500.0\n",
       "total_il_high_credit_limit      83175.0\n",
       "term_ 60 months                       0\n",
       "home_ownership_MORTGAGE               1\n",
       "home_ownership_OWN                    0\n",
       "home_ownership_RENT                   0\n",
       "Name: 1, dtype: object"
      ]
     },
     "execution_count": 30,
     "metadata": {},
     "output_type": "execute_result"
    }
   ],
   "source": [
    "# Let's check again the first row \n",
    "raw.iloc[0]"
   ]
  },
  {
   "cell_type": "code",
   "execution_count": 31,
   "id": "acf324ea",
   "metadata": {},
   "outputs": [
    {
     "data": {
      "text/plain": [
       "array(['10+ years', '8 years', '9 years', '< 1 year', '5 years',\n",
       "       '2 years', '3 years', '7 years', '1 year', '6 years', '4 years'],\n",
       "      dtype=object)"
      ]
     },
     "execution_count": 31,
     "metadata": {},
     "output_type": "execute_result"
    }
   ],
   "source": [
    "# Finally, though employment length is understood to be numerical, it appears in the data in object form (character string).\n",
    "# Lets' first look at its possible values\n",
    "raw['emp_length'].unique()"
   ]
  },
  {
   "cell_type": "code",
   "execution_count": 32,
   "id": "b5cdc6ea",
   "metadata": {},
   "outputs": [],
   "source": [
    "# The simplest way to handle this feature is to remove the word \"years\" or \"year\", and replace 10+ by 10\n",
    "\n",
    "raw['emp_length'] = raw['emp_length'].str.replace('years','')\n",
    "raw['emp_length'] = raw['emp_length'].str.replace('year','')\n",
    "raw.loc[(raw['emp_length']=='10+ '), 'emp_length']=10"
   ]
  },
  {
   "cell_type": "code",
   "execution_count": 33,
   "id": "80ace66c",
   "metadata": {},
   "outputs": [
    {
     "name": "stdout",
     "output_type": "stream",
     "text": [
      "<class 'pandas.core.frame.DataFrame'>\n",
      "Int64Index: 9552 entries, 1 to 24999\n",
      "Data columns (total 37 columns):\n",
      " #   Column                      Non-Null Count  Dtype  \n",
      "---  ------                      --------------  -----  \n",
      " 0   loan_amnt                   9552 non-null   float64\n",
      " 1   int_rate                    9552 non-null   float64\n",
      " 2   emp_length                  9552 non-null   object \n",
      " 3   annual_inc                  9552 non-null   float64\n",
      " 4   verification_status         9552 non-null   int64  \n",
      " 5   loan_status                 9552 non-null   object \n",
      " 6   purpose                     9552 non-null   object \n",
      " 7   dti                         9552 non-null   float64\n",
      " 8   delinq_2yrs                 9552 non-null   float64\n",
      " 9   fico_range_low              9552 non-null   float64\n",
      " 10  fico_range_high             9552 non-null   float64\n",
      " 11  inq_last_6mths              9552 non-null   float64\n",
      " 12  open_acc                    9552 non-null   float64\n",
      " 13  revol_bal                   9552 non-null   float64\n",
      " 14  revol_util                  9552 non-null   float64\n",
      " 15  total_acc                   9552 non-null   float64\n",
      " 16  acc_now_delinq              9552 non-null   float64\n",
      " 17  tot_cur_bal                 9552 non-null   float64\n",
      " 18  open_acc_6m                 9552 non-null   float64\n",
      " 19  max_bal_bc                  9552 non-null   float64\n",
      " 20  all_util                    9552 non-null   float64\n",
      " 21  total_rev_hi_lim            9552 non-null   float64\n",
      " 22  acc_open_past_24mths        9552 non-null   float64\n",
      " 23  bc_util                     9552 non-null   float64\n",
      " 24  chargeoff_within_12_mths    9552 non-null   float64\n",
      " 25  mort_acc                    9552 non-null   float64\n",
      " 26  mths_since_recent_bc        9552 non-null   float64\n",
      " 27  mths_since_recent_inq       9552 non-null   float64\n",
      " 28  pub_rec_bankruptcies        9552 non-null   float64\n",
      " 29  tot_hi_cred_lim             9552 non-null   float64\n",
      " 30  total_bal_ex_mort           9552 non-null   float64\n",
      " 31  total_bc_limit              9552 non-null   float64\n",
      " 32  total_il_high_credit_limit  9552 non-null   float64\n",
      " 33  term_ 60 months             9552 non-null   uint8  \n",
      " 34  home_ownership_MORTGAGE     9552 non-null   uint8  \n",
      " 35  home_ownership_OWN          9552 non-null   uint8  \n",
      " 36  home_ownership_RENT         9552 non-null   uint8  \n",
      "dtypes: float64(29), int64(1), object(3), uint8(4)\n",
      "memory usage: 2.5+ MB\n"
     ]
    }
   ],
   "source": [
    "raw.info()"
   ]
  },
  {
   "cell_type": "markdown",
   "id": "091dbf22",
   "metadata": {},
   "source": [
    "## Remove target col for features"
   ]
  },
  {
   "cell_type": "code",
   "execution_count": 34,
   "id": "9c9625c3",
   "metadata": {},
   "outputs": [
    {
     "name": "stdout",
     "output_type": "stream",
     "text": [
      "(9552, 36) (9552,)\n"
     ]
    }
   ],
   "source": [
    "# remove target column to create feature only dataset\n",
    "X_data = raw.drop('loan_status', axis=1)\n",
    "\n",
    "# store target column\n",
    "Y_data = raw['loan_status']\n",
    "\n",
    "print(X_data.shape, Y_data.shape)"
   ]
  },
  {
   "cell_type": "code",
   "execution_count": 35,
   "id": "46d96cb3",
   "metadata": {},
   "outputs": [
    {
     "name": "stdout",
     "output_type": "stream",
     "text": [
      "<class 'pandas.core.frame.DataFrame'>\n",
      "Int64Index: 9552 entries, 1 to 24999\n",
      "Data columns (total 37 columns):\n",
      " #   Column                      Non-Null Count  Dtype  \n",
      "---  ------                      --------------  -----  \n",
      " 0   loan_amnt                   9552 non-null   float64\n",
      " 1   int_rate                    9552 non-null   float64\n",
      " 2   emp_length                  9552 non-null   object \n",
      " 3   annual_inc                  9552 non-null   float64\n",
      " 4   verification_status         9552 non-null   int64  \n",
      " 5   loan_status                 9552 non-null   object \n",
      " 6   purpose                     9552 non-null   object \n",
      " 7   dti                         9552 non-null   float64\n",
      " 8   delinq_2yrs                 9552 non-null   float64\n",
      " 9   fico_range_low              9552 non-null   float64\n",
      " 10  fico_range_high             9552 non-null   float64\n",
      " 11  inq_last_6mths              9552 non-null   float64\n",
      " 12  open_acc                    9552 non-null   float64\n",
      " 13  revol_bal                   9552 non-null   float64\n",
      " 14  revol_util                  9552 non-null   float64\n",
      " 15  total_acc                   9552 non-null   float64\n",
      " 16  acc_now_delinq              9552 non-null   float64\n",
      " 17  tot_cur_bal                 9552 non-null   float64\n",
      " 18  open_acc_6m                 9552 non-null   float64\n",
      " 19  max_bal_bc                  9552 non-null   float64\n",
      " 20  all_util                    9552 non-null   float64\n",
      " 21  total_rev_hi_lim            9552 non-null   float64\n",
      " 22  acc_open_past_24mths        9552 non-null   float64\n",
      " 23  bc_util                     9552 non-null   float64\n",
      " 24  chargeoff_within_12_mths    9552 non-null   float64\n",
      " 25  mort_acc                    9552 non-null   float64\n",
      " 26  mths_since_recent_bc        9552 non-null   float64\n",
      " 27  mths_since_recent_inq       9552 non-null   float64\n",
      " 28  pub_rec_bankruptcies        9552 non-null   float64\n",
      " 29  tot_hi_cred_lim             9552 non-null   float64\n",
      " 30  total_bal_ex_mort           9552 non-null   float64\n",
      " 31  total_bc_limit              9552 non-null   float64\n",
      " 32  total_il_high_credit_limit  9552 non-null   float64\n",
      " 33  term_ 60 months             9552 non-null   uint8  \n",
      " 34  home_ownership_MORTGAGE     9552 non-null   uint8  \n",
      " 35  home_ownership_OWN          9552 non-null   uint8  \n",
      " 36  home_ownership_RENT         9552 non-null   uint8  \n",
      "dtypes: float64(29), int64(1), object(3), uint8(4)\n",
      "memory usage: 2.5+ MB\n"
     ]
    }
   ],
   "source": [
    "raw.info()"
   ]
  },
  {
   "cell_type": "markdown",
   "id": "1782ee6c",
   "metadata": {},
   "source": [
    "# Model 1: Logistic Regression"
   ]
  },
  {
   "cell_type": "code",
   "execution_count": 36,
   "id": "6c5e24d2",
   "metadata": {},
   "outputs": [],
   "source": [
    "# plotting packages\n",
    "get_ipython().run_line_magic('matplotlib', 'inline')\n",
    "from mpl_toolkits.mplot3d import Axes3D\n",
    "import matplotlib.pyplot as plt\n",
    "import matplotlib.cm as cm\n",
    "import matplotlib.colors as clrs\n",
    "\n",
    "# Kmeans algorithm from scikit-learn\n",
    "from sklearn.cluster import KMeans\n",
    "from sklearn.metrics import silhouette_samples, silhouette_score\n",
    "from sklearn.model_selection import train_test_split\n",
    "from sklearn.linear_model import LogisticRegression\n",
    "from sklearn.preprocessing import LabelEncoder\n",
    "from sklearn.model_selection import train_test_split\n",
    "from sklearn.metrics import accuracy_score, classification_report, confusion_matrix\n",
    "from sklearn.metrics import classification_report\n",
    "from sklearn.preprocessing import StandardScaler\n",
    "from sklearn.tree import DecisionTreeClassifier\n",
    "from sklearn.tree import plot_tree\n",
    "import matplotlib.pyplot as plt\n",
    "from sklearn.metrics import roc_curve, auc"
   ]
  },
  {
   "cell_type": "markdown",
   "id": "069d8d97",
   "metadata": {},
   "source": [
    "## Split data for model 1"
   ]
  },
  {
   "cell_type": "markdown",
   "id": "06e1e2da",
   "metadata": {},
   "source": [
    "## Clean data for model 1"
   ]
  },
  {
   "cell_type": "code",
   "execution_count": 37,
   "id": "b8803d43",
   "metadata": {},
   "outputs": [],
   "source": [
    "#clean data for model 1\n",
    "df1 =raw.iloc[:,:-4]\n",
    "df1 = df1.drop([\"purpose\"], axis=1) # drop \"purpose\"\n",
    "\n",
    "\n",
    "# Specify the target variable and the feature variables\n",
    "y = df1['loan_status'].astype(int)\n",
    "X = df1.drop('loan_status', axis=1)"
   ]
  },
  {
   "cell_type": "code",
   "execution_count": 38,
   "id": "e7967e64",
   "metadata": {},
   "outputs": [],
   "source": [
    "# Split the data into train and test sets\n",
    "\n",
    "X_train, X_test, y_train, y_test = train_test_split(X, y, test_size=0.25, random_state=2023) #Split function"
   ]
  },
  {
   "cell_type": "markdown",
   "id": "40f4dd6c",
   "metadata": {},
   "source": [
    "## Create and Train a Logistic Regression Model"
   ]
  },
  {
   "cell_type": "code",
   "execution_count": 39,
   "id": "9c0273f0",
   "metadata": {},
   "outputs": [
    {
     "ename": "ValueError",
     "evalue": "could not convert string to float: '< 1 '",
     "output_type": "error",
     "traceback": [
      "\u001b[0;31m---------------------------------------------------------------------------\u001b[0m",
      "\u001b[0;31mValueError\u001b[0m                                Traceback (most recent call last)",
      "\u001b[0;32m/var/folders/dy/60t3r7sj2pzbvwv7nm3hmhvw0000gn/T/ipykernel_76613/522014179.py\u001b[0m in \u001b[0;36m<module>\u001b[0;34m\u001b[0m\n\u001b[1;32m      3\u001b[0m \u001b[0;34m\u001b[0m\u001b[0m\n\u001b[1;32m      4\u001b[0m \u001b[0;31m# Train the model\u001b[0m\u001b[0;34m\u001b[0m\u001b[0;34m\u001b[0m\u001b[0m\n\u001b[0;32m----> 5\u001b[0;31m \u001b[0mlog_reg\u001b[0m\u001b[0;34m.\u001b[0m\u001b[0mfit\u001b[0m\u001b[0;34m(\u001b[0m\u001b[0mX_train\u001b[0m\u001b[0;34m,\u001b[0m \u001b[0my_train\u001b[0m\u001b[0;34m)\u001b[0m\u001b[0;34m\u001b[0m\u001b[0;34m\u001b[0m\u001b[0m\n\u001b[0m\u001b[1;32m      6\u001b[0m \u001b[0;34m\u001b[0m\u001b[0m\n\u001b[1;32m      7\u001b[0m \u001b[0;31m# make predictions on the test set\u001b[0m\u001b[0;34m\u001b[0m\u001b[0;34m\u001b[0m\u001b[0m\n",
      "\u001b[0;32m/opt/anaconda3/lib/python3.9/site-packages/sklearn/linear_model/_logistic.py\u001b[0m in \u001b[0;36mfit\u001b[0;34m(self, X, y, sample_weight)\u001b[0m\n\u001b[1;32m   1506\u001b[0m             \u001b[0m_dtype\u001b[0m \u001b[0;34m=\u001b[0m \u001b[0;34m[\u001b[0m\u001b[0mnp\u001b[0m\u001b[0;34m.\u001b[0m\u001b[0mfloat64\u001b[0m\u001b[0;34m,\u001b[0m \u001b[0mnp\u001b[0m\u001b[0;34m.\u001b[0m\u001b[0mfloat32\u001b[0m\u001b[0;34m]\u001b[0m\u001b[0;34m\u001b[0m\u001b[0;34m\u001b[0m\u001b[0m\n\u001b[1;32m   1507\u001b[0m \u001b[0;34m\u001b[0m\u001b[0m\n\u001b[0;32m-> 1508\u001b[0;31m         X, y = self._validate_data(\n\u001b[0m\u001b[1;32m   1509\u001b[0m             \u001b[0mX\u001b[0m\u001b[0;34m,\u001b[0m\u001b[0;34m\u001b[0m\u001b[0;34m\u001b[0m\u001b[0m\n\u001b[1;32m   1510\u001b[0m             \u001b[0my\u001b[0m\u001b[0;34m,\u001b[0m\u001b[0;34m\u001b[0m\u001b[0;34m\u001b[0m\u001b[0m\n",
      "\u001b[0;32m/opt/anaconda3/lib/python3.9/site-packages/sklearn/base.py\u001b[0m in \u001b[0;36m_validate_data\u001b[0;34m(self, X, y, reset, validate_separately, **check_params)\u001b[0m\n\u001b[1;32m    579\u001b[0m                 \u001b[0my\u001b[0m \u001b[0;34m=\u001b[0m \u001b[0mcheck_array\u001b[0m\u001b[0;34m(\u001b[0m\u001b[0my\u001b[0m\u001b[0;34m,\u001b[0m \u001b[0;34m**\u001b[0m\u001b[0mcheck_y_params\u001b[0m\u001b[0;34m)\u001b[0m\u001b[0;34m\u001b[0m\u001b[0;34m\u001b[0m\u001b[0m\n\u001b[1;32m    580\u001b[0m             \u001b[0;32melse\u001b[0m\u001b[0;34m:\u001b[0m\u001b[0;34m\u001b[0m\u001b[0;34m\u001b[0m\u001b[0m\n\u001b[0;32m--> 581\u001b[0;31m                 \u001b[0mX\u001b[0m\u001b[0;34m,\u001b[0m \u001b[0my\u001b[0m \u001b[0;34m=\u001b[0m \u001b[0mcheck_X_y\u001b[0m\u001b[0;34m(\u001b[0m\u001b[0mX\u001b[0m\u001b[0;34m,\u001b[0m \u001b[0my\u001b[0m\u001b[0;34m,\u001b[0m \u001b[0;34m**\u001b[0m\u001b[0mcheck_params\u001b[0m\u001b[0;34m)\u001b[0m\u001b[0;34m\u001b[0m\u001b[0;34m\u001b[0m\u001b[0m\n\u001b[0m\u001b[1;32m    582\u001b[0m             \u001b[0mout\u001b[0m \u001b[0;34m=\u001b[0m \u001b[0mX\u001b[0m\u001b[0;34m,\u001b[0m \u001b[0my\u001b[0m\u001b[0;34m\u001b[0m\u001b[0;34m\u001b[0m\u001b[0m\n\u001b[1;32m    583\u001b[0m \u001b[0;34m\u001b[0m\u001b[0m\n",
      "\u001b[0;32m/opt/anaconda3/lib/python3.9/site-packages/sklearn/utils/validation.py\u001b[0m in \u001b[0;36mcheck_X_y\u001b[0;34m(X, y, accept_sparse, accept_large_sparse, dtype, order, copy, force_all_finite, ensure_2d, allow_nd, multi_output, ensure_min_samples, ensure_min_features, y_numeric, estimator)\u001b[0m\n\u001b[1;32m    962\u001b[0m         \u001b[0;32mraise\u001b[0m \u001b[0mValueError\u001b[0m\u001b[0;34m(\u001b[0m\u001b[0;34m\"y cannot be None\"\u001b[0m\u001b[0;34m)\u001b[0m\u001b[0;34m\u001b[0m\u001b[0;34m\u001b[0m\u001b[0m\n\u001b[1;32m    963\u001b[0m \u001b[0;34m\u001b[0m\u001b[0m\n\u001b[0;32m--> 964\u001b[0;31m     X = check_array(\n\u001b[0m\u001b[1;32m    965\u001b[0m         \u001b[0mX\u001b[0m\u001b[0;34m,\u001b[0m\u001b[0;34m\u001b[0m\u001b[0;34m\u001b[0m\u001b[0m\n\u001b[1;32m    966\u001b[0m         \u001b[0maccept_sparse\u001b[0m\u001b[0;34m=\u001b[0m\u001b[0maccept_sparse\u001b[0m\u001b[0;34m,\u001b[0m\u001b[0;34m\u001b[0m\u001b[0;34m\u001b[0m\u001b[0m\n",
      "\u001b[0;32m/opt/anaconda3/lib/python3.9/site-packages/sklearn/utils/validation.py\u001b[0m in \u001b[0;36mcheck_array\u001b[0;34m(array, accept_sparse, accept_large_sparse, dtype, order, copy, force_all_finite, ensure_2d, allow_nd, ensure_min_samples, ensure_min_features, estimator)\u001b[0m\n\u001b[1;32m    744\u001b[0m                     \u001b[0marray\u001b[0m \u001b[0;34m=\u001b[0m \u001b[0marray\u001b[0m\u001b[0;34m.\u001b[0m\u001b[0mastype\u001b[0m\u001b[0;34m(\u001b[0m\u001b[0mdtype\u001b[0m\u001b[0;34m,\u001b[0m \u001b[0mcasting\u001b[0m\u001b[0;34m=\u001b[0m\u001b[0;34m\"unsafe\"\u001b[0m\u001b[0;34m,\u001b[0m \u001b[0mcopy\u001b[0m\u001b[0;34m=\u001b[0m\u001b[0;32mFalse\u001b[0m\u001b[0;34m)\u001b[0m\u001b[0;34m\u001b[0m\u001b[0;34m\u001b[0m\u001b[0m\n\u001b[1;32m    745\u001b[0m                 \u001b[0;32melse\u001b[0m\u001b[0;34m:\u001b[0m\u001b[0;34m\u001b[0m\u001b[0;34m\u001b[0m\u001b[0m\n\u001b[0;32m--> 746\u001b[0;31m                     \u001b[0marray\u001b[0m \u001b[0;34m=\u001b[0m \u001b[0mnp\u001b[0m\u001b[0;34m.\u001b[0m\u001b[0masarray\u001b[0m\u001b[0;34m(\u001b[0m\u001b[0marray\u001b[0m\u001b[0;34m,\u001b[0m \u001b[0morder\u001b[0m\u001b[0;34m=\u001b[0m\u001b[0morder\u001b[0m\u001b[0;34m,\u001b[0m \u001b[0mdtype\u001b[0m\u001b[0;34m=\u001b[0m\u001b[0mdtype\u001b[0m\u001b[0;34m)\u001b[0m\u001b[0;34m\u001b[0m\u001b[0;34m\u001b[0m\u001b[0m\n\u001b[0m\u001b[1;32m    747\u001b[0m             \u001b[0;32mexcept\u001b[0m \u001b[0mComplexWarning\u001b[0m \u001b[0;32mas\u001b[0m \u001b[0mcomplex_warning\u001b[0m\u001b[0;34m:\u001b[0m\u001b[0;34m\u001b[0m\u001b[0;34m\u001b[0m\u001b[0m\n\u001b[1;32m    748\u001b[0m                 raise ValueError(\n",
      "\u001b[0;32m/opt/anaconda3/lib/python3.9/site-packages/pandas/core/generic.py\u001b[0m in \u001b[0;36m__array__\u001b[0;34m(self, dtype)\u001b[0m\n\u001b[1;32m   2062\u001b[0m \u001b[0;34m\u001b[0m\u001b[0m\n\u001b[1;32m   2063\u001b[0m     \u001b[0;32mdef\u001b[0m \u001b[0m__array__\u001b[0m\u001b[0;34m(\u001b[0m\u001b[0mself\u001b[0m\u001b[0;34m,\u001b[0m \u001b[0mdtype\u001b[0m\u001b[0;34m:\u001b[0m \u001b[0mnpt\u001b[0m\u001b[0;34m.\u001b[0m\u001b[0mDTypeLike\u001b[0m \u001b[0;34m|\u001b[0m \u001b[0;32mNone\u001b[0m \u001b[0;34m=\u001b[0m \u001b[0;32mNone\u001b[0m\u001b[0;34m)\u001b[0m \u001b[0;34m->\u001b[0m \u001b[0mnp\u001b[0m\u001b[0;34m.\u001b[0m\u001b[0mndarray\u001b[0m\u001b[0;34m:\u001b[0m\u001b[0;34m\u001b[0m\u001b[0;34m\u001b[0m\u001b[0m\n\u001b[0;32m-> 2064\u001b[0;31m         \u001b[0;32mreturn\u001b[0m \u001b[0mnp\u001b[0m\u001b[0;34m.\u001b[0m\u001b[0masarray\u001b[0m\u001b[0;34m(\u001b[0m\u001b[0mself\u001b[0m\u001b[0;34m.\u001b[0m\u001b[0m_values\u001b[0m\u001b[0;34m,\u001b[0m \u001b[0mdtype\u001b[0m\u001b[0;34m=\u001b[0m\u001b[0mdtype\u001b[0m\u001b[0;34m)\u001b[0m\u001b[0;34m\u001b[0m\u001b[0;34m\u001b[0m\u001b[0m\n\u001b[0m\u001b[1;32m   2065\u001b[0m \u001b[0;34m\u001b[0m\u001b[0m\n\u001b[1;32m   2066\u001b[0m     def __array_wrap__(\n",
      "\u001b[0;31mValueError\u001b[0m: could not convert string to float: '< 1 '"
     ]
    }
   ],
   "source": [
    "# Create a Logistic Regression Model\n",
    "log_reg = LogisticRegression(max_iter=1000)\n",
    "\n",
    "# Train the model \n",
    "log_reg.fit(X_train, y_train)\n",
    "\n",
    "# make predictions on the test set\n",
    "y_pred = log_reg.predicte(X_test)\n"
   ]
  },
  {
   "cell_type": "markdown",
   "id": "0da4be0f",
   "metadata": {},
   "source": [
    "## Set Threshold to divide the result"
   ]
  },
  {
   "cell_type": "code",
   "execution_count": null,
   "id": "10013b29",
   "metadata": {},
   "outputs": [],
   "source": [
    "# If the predicted probability is > 0.5, it belongs to class 1, else it belongs to class 0\n",
    "\n",
    "y_pred = [1 if i > 0.5 else 0 for i in y_pred]\n",
    "\n",
    "# Print the classification report\n",
    "print(calssification_report(y_test, y_pred))\n",
    "\n",
    "# Print the confusion matrix\n",
    "print(confusion_matrix(y_test,y_pred))"
   ]
  },
  {
   "cell_type": "code",
   "execution_count": null,
   "id": "0a2581e4",
   "metadata": {},
   "outputs": [],
   "source": []
  }
 ],
 "metadata": {
  "kernelspec": {
   "display_name": "Python 3 (ipykernel)",
   "language": "python",
   "name": "python3"
  },
  "language_info": {
   "codemirror_mode": {
    "name": "ipython",
    "version": 3
   },
   "file_extension": ".py",
   "mimetype": "text/x-python",
   "name": "python",
   "nbconvert_exporter": "python",
   "pygments_lexer": "ipython3",
   "version": "3.9.13"
  },
  "toc": {
   "base_numbering": 1,
   "nav_menu": {},
   "number_sections": true,
   "sideBar": true,
   "skip_h1_title": false,
   "title_cell": "Table of Contents",
   "title_sidebar": "Contents",
   "toc_cell": false,
   "toc_position": {},
   "toc_section_display": true,
   "toc_window_display": false
  }
 },
 "nbformat": 4,
 "nbformat_minor": 5
}
